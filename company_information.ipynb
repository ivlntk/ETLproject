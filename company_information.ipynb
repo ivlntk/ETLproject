{
 "cells": [
  {
   "cell_type": "code",
   "execution_count": 1,
   "metadata": {},
   "outputs": [],
   "source": [
    "import pandas as pd\n",
    "#import pandas_explode \n"
   ]
  },
  {
   "cell_type": "code",
   "execution_count": 21,
   "metadata": {},
   "outputs": [
    {
     "data": {
      "text/html": [
       "<div>\n",
       "<style scoped>\n",
       "    .dataframe tbody tr th:only-of-type {\n",
       "        vertical-align: middle;\n",
       "    }\n",
       "\n",
       "    .dataframe tbody tr th {\n",
       "        vertical-align: top;\n",
       "    }\n",
       "\n",
       "    .dataframe thead th {\n",
       "        text-align: right;\n",
       "    }\n",
       "</style>\n",
       "<table border=\"1\" class=\"dataframe\">\n",
       "  <thead>\n",
       "    <tr style=\"text-align: right;\">\n",
       "      <th></th>\n",
       "      <th>Company_name</th>\n",
       "      <th>Company_ticker</th>\n",
       "      <th>MarketCap</th>\n",
       "      <th>IPOyear</th>\n",
       "      <th>Industry</th>\n",
       "    </tr>\n",
       "  </thead>\n",
       "  <tbody>\n",
       "    <tr>\n",
       "      <th>0</th>\n",
       "      <td>111, Inc.</td>\n",
       "      <td>YI</td>\n",
       "      <td>4.853105e+07</td>\n",
       "      <td>2018.0</td>\n",
       "      <td>Medical/Nursing Services</td>\n",
       "    </tr>\n",
       "    <tr>\n",
       "      <th>1</th>\n",
       "      <td>3M Company</td>\n",
       "      <td>MMM</td>\n",
       "      <td>1.002870e+11</td>\n",
       "      <td>NaN</td>\n",
       "      <td>Medical/Dental Instruments</td>\n",
       "    </tr>\n",
       "    <tr>\n",
       "      <th>2</th>\n",
       "      <td>AAC Holdings, Inc.</td>\n",
       "      <td>AAC</td>\n",
       "      <td>2.499575e+07</td>\n",
       "      <td>2014.0</td>\n",
       "      <td>Medical Specialities</td>\n",
       "    </tr>\n",
       "  </tbody>\n",
       "</table>\n",
       "</div>"
      ],
      "text/plain": [
       "         Company_name Company_ticker     MarketCap  IPOyear  \\\n",
       "0           111, Inc.             YI  4.853105e+07   2018.0   \n",
       "1          3M Company            MMM  1.002870e+11      NaN   \n",
       "2  AAC Holdings, Inc.            AAC  2.499575e+07   2014.0   \n",
       "\n",
       "                     Industry  \n",
       "0    Medical/Nursing Services  \n",
       "1  Medical/Dental Instruments  \n",
       "2        Medical Specialities  "
      ]
     },
     "execution_count": 21,
     "metadata": {},
     "output_type": "execute_result"
    }
   ],
   "source": [
    "company_csv = \"Resources/Company_information.csv\"\n",
    "company_df = pd.read_csv(company_csv)\n",
    "company_df.head(3)"
   ]
  },
  {
   "cell_type": "code",
   "execution_count": 22,
   "metadata": {},
   "outputs": [
    {
     "data": {
      "text/html": [
       "<div>\n",
       "<style scoped>\n",
       "    .dataframe tbody tr th:only-of-type {\n",
       "        vertical-align: middle;\n",
       "    }\n",
       "\n",
       "    .dataframe tbody tr th {\n",
       "        vertical-align: top;\n",
       "    }\n",
       "\n",
       "    .dataframe thead th {\n",
       "        text-align: right;\n",
       "    }\n",
       "</style>\n",
       "<table border=\"1\" class=\"dataframe\">\n",
       "  <thead>\n",
       "    <tr style=\"text-align: right;\">\n",
       "      <th></th>\n",
       "      <th>Company_name</th>\n",
       "      <th>Company_ticker</th>\n",
       "      <th>MarketCap</th>\n",
       "      <th>IPOyear</th>\n",
       "      <th>Industry</th>\n",
       "    </tr>\n",
       "  </thead>\n",
       "  <tbody>\n",
       "    <tr>\n",
       "      <th>0</th>\n",
       "      <td>111, Inc.</td>\n",
       "      <td>YI</td>\n",
       "      <td>4.853105e+07</td>\n",
       "      <td>2018.0</td>\n",
       "      <td>Medical/Nursing Services</td>\n",
       "    </tr>\n",
       "    <tr>\n",
       "      <th>1</th>\n",
       "      <td>3M Company</td>\n",
       "      <td>MMM</td>\n",
       "      <td>1.002870e+11</td>\n",
       "      <td>0.0</td>\n",
       "      <td>Medical/Dental Instruments</td>\n",
       "    </tr>\n",
       "    <tr>\n",
       "      <th>2</th>\n",
       "      <td>AAC Holdings, Inc.</td>\n",
       "      <td>AAC</td>\n",
       "      <td>2.499575e+07</td>\n",
       "      <td>2014.0</td>\n",
       "      <td>Medical Specialities</td>\n",
       "    </tr>\n",
       "  </tbody>\n",
       "</table>\n",
       "</div>"
      ],
      "text/plain": [
       "         Company_name Company_ticker     MarketCap  IPOyear  \\\n",
       "0           111, Inc.             YI  4.853105e+07   2018.0   \n",
       "1          3M Company            MMM  1.002870e+11      0.0   \n",
       "2  AAC Holdings, Inc.            AAC  2.499575e+07   2014.0   \n",
       "\n",
       "                     Industry  \n",
       "0    Medical/Nursing Services  \n",
       "1  Medical/Dental Instruments  \n",
       "2        Medical Specialities  "
      ]
     },
     "execution_count": 22,
     "metadata": {},
     "output_type": "execute_result"
    }
   ],
   "source": [
    "company_df_clean = company_df.fillna(0)\n",
    "company_df_clean.head(3)"
   ]
  },
  {
   "cell_type": "code",
   "execution_count": 15,
   "metadata": {},
   "outputs": [
    {
     "data": {
      "text/html": [
       "<div>\n",
       "<style scoped>\n",
       "    .dataframe tbody tr th:only-of-type {\n",
       "        vertical-align: middle;\n",
       "    }\n",
       "\n",
       "    .dataframe tbody tr th {\n",
       "        vertical-align: top;\n",
       "    }\n",
       "\n",
       "    .dataframe thead th {\n",
       "        text-align: right;\n",
       "    }\n",
       "</style>\n",
       "<table border=\"1\" class=\"dataframe\">\n",
       "  <thead>\n",
       "    <tr style=\"text-align: right;\">\n",
       "      <th></th>\n",
       "      <th>Company_name</th>\n",
       "      <th>Company_ticker</th>\n",
       "      <th>MarketCap</th>\n",
       "      <th>IPOyear</th>\n",
       "      <th>Industry</th>\n",
       "    </tr>\n",
       "  </thead>\n",
       "  <tbody>\n",
       "    <tr>\n",
       "      <th>0</th>\n",
       "      <td>111  Inc.</td>\n",
       "      <td>YI</td>\n",
       "      <td>4.853105e+07</td>\n",
       "      <td>2018.0</td>\n",
       "      <td>Medical/Nursing Services</td>\n",
       "    </tr>\n",
       "    <tr>\n",
       "      <th>1</th>\n",
       "      <td>3M Company</td>\n",
       "      <td>MMM</td>\n",
       "      <td>1.002870e+11</td>\n",
       "      <td>0.0</td>\n",
       "      <td>Medical/Dental Instruments</td>\n",
       "    </tr>\n",
       "    <tr>\n",
       "      <th>2</th>\n",
       "      <td>AAC Holdings  Inc.</td>\n",
       "      <td>AAC</td>\n",
       "      <td>2.499575e+07</td>\n",
       "      <td>2014.0</td>\n",
       "      <td>Medical Specialities</td>\n",
       "    </tr>\n",
       "  </tbody>\n",
       "</table>\n",
       "</div>"
      ],
      "text/plain": [
       "         Company_name Company_ticker     MarketCap  IPOyear  \\\n",
       "0           111  Inc.             YI  4.853105e+07   2018.0   \n",
       "1          3M Company            MMM  1.002870e+11      0.0   \n",
       "2  AAC Holdings  Inc.            AAC  2.499575e+07   2014.0   \n",
       "\n",
       "                     Industry  \n",
       "0    Medical/Nursing Services  \n",
       "1  Medical/Dental Instruments  \n",
       "2        Medical Specialities  "
      ]
     },
     "execution_count": 15,
     "metadata": {},
     "output_type": "execute_result"
    }
   ],
   "source": [
    "company_df_cleanv2=company_df_clean.replace({'Company_name': r','}, {'Company_name': ' '}, regex=True)\n",
    "company_df_cleanv2.head(3)"
   ]
  },
  {
   "cell_type": "code",
   "execution_count": 16,
   "metadata": {},
   "outputs": [],
   "source": [
    "company_df_cleanv2.to_csv(r'Resources/Company_informationv3.csv', index=False)"
   ]
  },
  {
   "cell_type": "code",
   "execution_count": null,
   "metadata": {},
   "outputs": [],
   "source": []
  }
 ],
 "metadata": {
  "kernelspec": {
   "display_name": "Python 3",
   "language": "python",
   "name": "python3"
  },
  "language_info": {
   "codemirror_mode": {
    "name": "ipython",
    "version": 3
   },
   "file_extension": ".py",
   "mimetype": "text/x-python",
   "name": "python",
   "nbconvert_exporter": "python",
   "pygments_lexer": "ipython3",
   "version": "3.7.3"
  }
 },
 "nbformat": 4,
 "nbformat_minor": 2
}
